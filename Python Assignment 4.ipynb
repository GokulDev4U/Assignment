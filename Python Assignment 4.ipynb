{
 "cells": [
  {
   "cell_type": "markdown",
   "metadata": {},
   "source": [
    "## Write a Python Program(with class concepts) to find the area of the triangle using the below formula. area = (s*(s-a)*(s-b)*(s-c)) ** 0.5 Function to take the length of the sides of triangle from user should be defined in the parent class and function to calculate the area should be defined in subclass."
   ]
  },
  {
   "cell_type": "code",
   "execution_count": 1,
   "metadata": {},
   "outputs": [
    {
     "name": "stdout",
     "output_type": "stream",
     "text": [
      "6.0\n"
     ]
    }
   ],
   "source": [
    "class Polygon:\n",
    "\n",
    "    def __init__(self, n):\n",
    "        self.number_of_sides = n\n",
    "\n",
    "    def print_num_sides(self):\n",
    "   \n",
    "        print('There are ' + str(self.number_of_sides) + ' sides.')\n",
    "\n",
    "\n",
    "class Triangle(Polygon):\n",
    "\n",
    "    def __init__(self, lengths_of_sides):\n",
    "        Polygon.__init__(self, 3)\n",
    "        self.lengths_of_sides = lengths_of_sides  # list of three numbers\n",
    "\n",
    "    def get_area(self):\n",
    "       \n",
    "        a, b, c = self.lengths_of_sides\n",
    "\n",
    "       \n",
    "        s = (a + b + c) / 2\n",
    "        return (s*(s-a)*(s-b)*(s-c)) ** 0.5\n",
    "    \n",
    "tri = Triangle([3, 4, 5])\n",
    "print(tri.get_area())"
   ]
  },
  {
   "cell_type": "markdown",
   "metadata": {},
   "source": [
    "## Write a function filter_long_words() that takes a list of words and an integer n and returns the list of words that are longer than n."
   ]
  },
  {
   "cell_type": "code",
   "execution_count": 2,
   "metadata": {},
   "outputs": [
    {
     "name": "stdout",
     "output_type": "stream",
     "text": [
      "enter the sequence of words \n",
      "gokul,karthik\n",
      "enter the number \n",
      "5\n",
      "list of words that are longer than n ['gokul,karthik']\n"
     ]
    }
   ],
   "source": [
    "words =input('enter the sequence of words \\n').split()\n",
    "n=int(input('enter the number \\n'))\n",
    "\n",
    "def filter_long_words(n1,sequence1):\n",
    "    lst = [i for i in sequence1 if len(i) > n1 ]\n",
    " #   for i in sequence1:\n",
    " #      if len(i) > n1:\n",
    " #   print(f'list of words that are longer than n {seq.append(i)}')\n",
    "    print(f'list of words that are longer than n {lst}')\n",
    "\n",
    "filter_long_words(n,words)"
   ]
  },
  {
   "cell_type": "markdown",
   "metadata": {},
   "source": [
    "## Write a Python program using function concept that maps list of words into a list of integers representing the lengths of the corresponding words."
   ]
  },
  {
   "cell_type": "code",
   "execution_count": 3,
   "metadata": {},
   "outputs": [
    {
     "name": "stdout",
     "output_type": "stream",
     "text": [
      "enter the sequence of words \n",
      "gokul,karthik\n",
      "length of each word in list [5, 7]\n"
     ]
    }
   ],
   "source": [
    "words =input('enter the sequence of words \\n').split(',')\n",
    "sequence =[]\n",
    "for word in words:\n",
    "    sequence.append(word)\n",
    "    \n",
    "def wordLength(sequence):\n",
    "    return list(map(lambda x: len(x),sequence))\n",
    "\n",
    "print(f'length of each word in list {str(wordLength(sequence))}')\n"
   ]
  },
  {
   "cell_type": "markdown",
   "metadata": {},
   "source": [
    "## Write a Python function which takes a character (i.e. a string of length 1) and returns True if it is a vowel, False otherwise."
   ]
  },
  {
   "cell_type": "code",
   "execution_count": 4,
   "metadata": {},
   "outputs": [
    {
     "name": "stdout",
     "output_type": "stream",
     "text": [
      "enter the character, to check whether it is vowel or not \n",
      "e\n"
     ]
    },
    {
     "data": {
      "text/plain": [
       "True"
      ]
     },
     "execution_count": 4,
     "metadata": {},
     "output_type": "execute_result"
    }
   ],
   "source": [
    "def isVowel(char):\n",
    "\n",
    "    if char == 'a' or char =='e' or char =='i' or char =='o' or char =='u' or char =='A' or char =='E' or char =='I' or char =='O' or char =='U':\n",
    "        return True\n",
    "    else:\n",
    "        return False\n",
    "    \n",
    "char1 =str(input('enter the character, to check whether it is vowel or not \\n' ))\n",
    "\n",
    "isVowel(char1)"
   ]
  },
  {
   "cell_type": "code",
   "execution_count": null,
   "metadata": {},
   "outputs": [],
   "source": []
  },
  {
   "cell_type": "code",
   "execution_count": null,
   "metadata": {},
   "outputs": [],
   "source": []
  },
  {
   "cell_type": "code",
   "execution_count": null,
   "metadata": {},
   "outputs": [],
   "source": []
  }
 ],
 "metadata": {
  "kernelspec": {
   "display_name": "Python 3",
   "language": "python",
   "name": "python3"
  },
  "language_info": {
   "codemirror_mode": {
    "name": "ipython",
    "version": 3
   },
   "file_extension": ".py",
   "mimetype": "text/x-python",
   "name": "python",
   "nbconvert_exporter": "python",
   "pygments_lexer": "ipython3",
   "version": "3.7.1"
  }
 },
 "nbformat": 4,
 "nbformat_minor": 2
}
